{
 "cells": [
  {
   "cell_type": "code",
   "execution_count": 1,
   "metadata": {},
   "outputs": [],
   "source": [
    "import pandas as pd \n",
    "from bs4 import BeautifulSoup as bs \n",
    "from splinter import Browser\n",
    "import requests\n",
    "#import os\n",
    "#from selenium import webdriver\n",
    "#from selenium.webdriver.common.keys import Keys\n"
   ]
  },
  {
   "cell_type": "code",
   "execution_count": 2,
   "metadata": {},
   "outputs": [],
   "source": [
    "executable_path = {\"executable_path\":\"chromedriver.exe\"}\n",
    "browser = Browser('chrome', **executable_path, headless=False)"
   ]
  },
  {
   "cell_type": "code",
   "execution_count": 3,
   "metadata": {},
   "outputs": [],
   "source": [
    "#NASA Mars News\n",
    "\n",
    "url = 'https://mars.nasa.gov/news/?page=0&per_page=40&order=publish_date+desc%2Ccreated_at+desc&search=&category=19%2C165%2C184%2C204&blank_scope=Latest'\n",
    "browser.visit(url)\n"
   ]
  },
  {
   "cell_type": "code",
   "execution_count": 4,
   "metadata": {},
   "outputs": [],
   "source": [
    "html = browser.html\n",
    "\n",
    "#Create a Beautiful Soup Object\n",
    "soup = bs(html, \"html.parser\")"
   ]
  },
  {
   "cell_type": "code",
   "execution_count": 5,
   "metadata": {},
   "outputs": [],
   "source": [
    "# Extract the latest News Title \n",
    "articles = soup.find(\"ul\", class_=\"item_list\").find(\"div\", class_=\"content_title\")\n",
    "#articles\n",
    "\n",
    "#print(soup.prettify())\n"
   ]
  },
  {
   "cell_type": "code",
   "execution_count": 6,
   "metadata": {},
   "outputs": [
    {
     "output_type": "execute_result",
     "data": {
      "text/plain": "\"The Extraordinary Sample-Gathering System of NASA's Perseverance Mars Rover\""
     },
     "metadata": {},
     "execution_count": 6
    }
   ],
   "source": [
    "article = articles.find(\"a\").text\n",
    "article"
   ]
  },
  {
   "cell_type": "code",
   "execution_count": 7,
   "metadata": {},
   "outputs": [
    {
     "output_type": "execute_result",
     "data": {
      "text/plain": "'Two astronauts collected Moon rocks on Apollo 11. It will take three robotic systems working together to gather up the first Mars rock samples for return to Earth.'"
     },
     "metadata": {},
     "execution_count": 7
    }
   ],
   "source": [
    "#Extract Paragraph Text\n",
    "soup.find(\"div\", class_=\"article_teaser_body\").text"
   ]
  },
  {
   "cell_type": "code",
   "execution_count": 8,
   "metadata": {},
   "outputs": [
    {
     "output_type": "stream",
     "name": "stdout",
     "text": "The Extraordinary Sample-Gathering System of NASA's Perseverance Mars Rover\nTwo astronauts collected Moon rocks on Apollo 11. It will take three robotic systems working together to gather up the first Mars rock samples for return to Earth.\n"
    }
   ],
   "source": [
    "articles = soup.find_all(\"li\", class_=\"slide\")\n",
    "first_article = articles[0]\n",
    "first_title = first_article.find(\"div\", class_=\"content_title\").find(\"a\").text\n",
    "first_para = first_article.find(\"div\", class_=\"article_teaser_body\").text\n",
    "print(first_title)\n",
    "print(first_para)"
   ]
  },
  {
   "cell_type": "code",
   "execution_count": 9,
   "metadata": {},
   "outputs": [],
   "source": [
    "#for article in articles:\n",
    "\n"
   ]
  },
  {
   "cell_type": "code",
   "execution_count": 13,
   "metadata": {},
   "outputs": [],
   "source": [
    "#JPL Mars Space Images - Featured Image\n",
    "featured_image_url = \"https://www.jpl.nasa.gov/spaceimages/?search=&category=Mars\"\n",
    "browser.visit(image_url)\n",
    "html = browser.html\n",
    "#Create a Beautiful Soup Object\n",
    "soup = bs(html, \"html.parser\")"
   ]
  },
  {
   "cell_type": "code",
   "execution_count": 19,
   "metadata": {},
   "outputs": [
    {
     "output_type": "execute_result",
     "data": {
      "text/plain": "[<article alt=\"First Close-up Image of Jupiter from Voyager 1\" class=\"carousel_item\" style=\"background-image: url('/spaceimages/images/wallpaper/PIA00029-1920x1200.jpg');\">\n <div class=\"default floating_text_area ms-layer\">\n <h2 class=\"category_title\">\n </h2>\n <h2 class=\"brand_title\">\n \t\t\t\t  FEATURED IMAGE\n \t\t\t\t</h2>\n <h1 class=\"media_feature_title\">\n \t\t\t\t  First Close-up Image of Jupiter from Voyager 1\t\t\t\t</h1>\n <div class=\"description\">\n </div>\n <footer>\n <a class=\"button fancybox\" data-description=\"NASA'S Voyager 1 took this picture of the planet Jupiter on January 6, 1979, the first in its three-month-long, close-up investigation of the largest planet.\" data-fancybox-group=\"images\" data-fancybox-href=\"/spaceimages/images/mediumsize/PIA00029_ip.jpg\" data-link=\"/spaceimages/details.php?id=PIA00029\" data-title=\"First Close-up Image of Jupiter from Voyager 1\" id=\"full_image\">\n \t\t\t\t\tFULL IMAGE\n \t\t\t\t  </a>\n </footer>\n </div>\n <div class=\"gradient_container_top\"></div>\n <div class=\"gradient_container_bottom\"></div>\n </article>]"
     },
     "metadata": {},
     "execution_count": 19
    }
   ],
   "source": [
    "jpl_image = soup.find_all(\"article\", class_= \"carousel_item\")\n",
    "jpl_image"
   ]
  },
  {
   "cell_type": "code",
   "execution_count": 21,
   "metadata": {},
   "outputs": [
    {
     "output_type": "execute_result",
     "data": {
      "text/plain": "<a class=\"button fancybox\" data-description=\"NASA'S Voyager 1 took this picture of the planet Jupiter on January 6, 1979, the first in its three-month-long, close-up investigation of the largest planet.\" data-fancybox-group=\"images\" data-fancybox-href=\"/spaceimages/images/mediumsize/PIA00029_ip.jpg\" data-link=\"/spaceimages/details.php?id=PIA00029\" data-title=\"First Close-up Image of Jupiter from Voyager 1\" id=\"full_image\">\n\t\t\t\t\tFULL IMAGE\n\t\t\t\t  </a>"
     },
     "metadata": {},
     "execution_count": 21
    }
   ],
   "source": [
    "new_jpl_image = jpl_image[0].find(\"a\")\n",
    "new_jpl_image"
   ]
  },
  {
   "cell_type": "code",
   "execution_count": 25,
   "metadata": {},
   "outputs": [
    {
     "output_type": "execute_result",
     "data": {
      "text/plain": "'/spaceimages/images/mediumsize/PIA00029_ip.jpg'"
     },
     "metadata": {},
     "execution_count": 25
    }
   ],
   "source": [
    "new_jpl_image[\"data-fancybox-href\"]"
   ]
  },
  {
   "cell_type": "code",
   "execution_count": null,
   "metadata": {},
   "outputs": [],
   "source": []
  },
  {
   "cell_type": "code",
   "execution_count": null,
   "metadata": {},
   "outputs": [],
   "source": []
  }
 ],
 "metadata": {
  "language_info": {
   "codemirror_mode": {
    "name": "ipython",
    "version": 3
   },
   "file_extension": ".py",
   "mimetype": "text/x-python",
   "name": "python",
   "nbconvert_exporter": "python",
   "pygments_lexer": "ipython3",
   "version": "3.7.4-final"
  },
  "orig_nbformat": 2,
  "kernelspec": {
   "name": "python3",
   "display_name": "Python 3"
  }
 },
 "nbformat": 4,
 "nbformat_minor": 2
}